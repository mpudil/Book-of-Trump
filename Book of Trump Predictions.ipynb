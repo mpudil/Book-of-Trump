{
 "cells": [
  {
   "cell_type": "code",
   "execution_count": null,
   "metadata": {},
   "outputs": [],
   "source": [
    "import numpy as np\n",
    "import pandas as pd\n",
    "import torch.nn as nn\n",
    "import torch.nn.functional as F\n",
    "import torch.optim as optim\n",
    "import torch\n",
    "import pickle\n",
    "\n",
    "torch.manual_seed(1)"
   ]
  },
  {
   "cell_type": "code",
   "execution_count": null,
   "metadata": {},
   "outputs": [],
   "source": [
    "ix_to_char = pickle.load(open('ix_to_char_gospels (1).pkl', 'rb'))\n",
    "char_to_ix = pickle.load(open('char_to_ix_gospels (1).pkl', 'rb'))\n",
    "vocab_size = len(ix_to_char)"
   ]
  },
  {
   "cell_type": "code",
   "execution_count": null,
   "metadata": {},
   "outputs": [],
   "source": [
    "class RNN(nn.Module):\n",
    "    def __init__(self, embed_dim, hidden_dim, vocab_size, n_layers=1):\n",
    "        super(RNN, self).__init__()\n",
    "        self.hidden_dim = hidden_dim\n",
    "        self.n_layers = n_layers\n",
    "        self.embed = nn.Embedding(vocab_size, embed_dim)\n",
    "        \n",
    "        self.lstm = nn.LSTM(embed_dim, hidden_dim, num_layers = n_layers)\n",
    "        \n",
    "        self.hidden2char = nn.Linear(hidden_dim, vocab_size)\n",
    "        self.dropout = nn.Dropout(0.2)\n",
    "        self.hidden = self.init_hidden()\n",
    "        \n",
    "    def init_hidden(self):\n",
    "        return(torch.zeros(self.n_layers, 1, self.hidden_dim),\n",
    "              torch.zeros(self.n_layers, 1, self.hidden_dim))\n",
    "    \n",
    "    def forward(self, tweet):\n",
    "        embeds = self.embed(tweet)\n",
    "        lstm_out, self.hidden = self.lstm(embeds.view(len(tweet), 1, -1),\n",
    "                                         self.hidden)\n",
    "        output = F.relu(self.hidden2char(lstm_out.view(len(tweet), -1)))\n",
    "        output = self.dropout(output)\n",
    "        log_probs = F.log_softmax(output, dim=1)\n",
    "        return log_probs"
   ]
  },
  {
   "cell_type": "code",
   "execution_count": null,
   "metadata": {},
   "outputs": [],
   "source": [
    "def generate_tweet(inputs, model):\n",
    "    model.eval()\n",
    "    with torch.no_grad():\n",
    "        char = torch.tensor([char_to_ix[c] for c in inputs], dtype = torch.long)\n",
    "        model.hidden = model.init_hidden()\n",
    "        output_tweet = inputs\n",
    "        letter = inputs\n",
    "        \n",
    "        for i in range(280):\n",
    "            char = char.view(-1)\n",
    "            output = model(char)\n",
    "            topv, topi = output.topk(4)\n",
    "            #Randomizing output so we don't get the same tweet every time\n",
    "            #Maybe randomize it so that if it is a space make it a space otherwise random letter\n",
    "            rand = np.random.randint(4)\n",
    "            if letter == ' ':\n",
    "                topi = topi[0][rand].item()\n",
    "            else:\n",
    "                topi = topi[0][0].item()\n",
    "            letter = ix_to_char[topi]\n",
    "            if letter == '\\n':\n",
    "                break\n",
    "            else:    \n",
    "                output_tweet += letter\n",
    "                char = torch.tensor(char_to_ix[letter], dtype = torch.long)\n",
    "        \n",
    "    return output_tweet"
   ]
  },
  {
   "cell_type": "code",
   "execution_count": null,
   "metadata": {},
   "outputs": [],
   "source": [
    "hidden_dim = 256\n",
    "embed_size = 256\n",
    "\n",
    "model = RNN(embed_size, hidden_dim, vocab_size, n_layers = 3)\n",
    "checkpoint = torch.load('trump_gospel1.tar', map_location='cpu')\n",
    "model.load_state_dict(checkpoint['model_state_dict'])\n",
    "#model.load_state_dict(torch.load('all_trump_model.pth', map_location='cpu'))"
   ]
  },
  {
   "cell_type": "code",
   "execution_count": null,
   "metadata": {},
   "outputs": [],
   "source": [
    "generate_tweet('T', model)"
   ]
  }
 ],
 "metadata": {
  "kernelspec": {
   "display_name": "Python 3",
   "language": "python",
   "name": "python3"
  },
  "language_info": {
   "codemirror_mode": {
    "name": "ipython",
    "version": 3
   },
   "file_extension": ".py",
   "mimetype": "text/x-python",
   "name": "python",
   "nbconvert_exporter": "python",
   "pygments_lexer": "ipython3",
   "version": "3.6.5"
  }
 },
 "nbformat": 4,
 "nbformat_minor": 2
}
