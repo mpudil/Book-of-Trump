{
 "cells": [
  {
   "cell_type": "code",
   "execution_count": 2,
   "metadata": {},
   "outputs": [],
   "source": [
    "from bs4 import BeautifulSoup\n",
    "import requests\n",
    "# Here, we're just importing both Beautiful Soup and the Requests library\n",
    "import re # import regular expressions"
   ]
  },
  {
   "cell_type": "code",
   "execution_count": 28,
   "metadata": {},
   "outputs": [],
   "source": [
    "def clean(string):\n",
    "    #removing verse numbers \n",
    "    string = re.sub(\"\\d+:\\d+\", \"\", string)\n",
    "    string = string.replace(\"\\r\\n\", \" \") # normal python function\n",
    "    # empty verses get removed later\n",
    "    if \"lord\" in string.lower() or \"god\" in string.lower() or \"jesus\" in string.lower() or \"christ\" in string.lower():\n",
    "        string = ''\n",
    "    string = string.strip()\n",
    "    return string\n",
    "\n",
    "def get_scripture(range1, range2):\n",
    "    page_link = 'http://www.gutenberg.org/files/10/10-h/10-h.htm#The_Fifth_Book_of_Moses_Called_Deuteronomy'\n",
    "    # this is the url that we've already determined is safe and legal to scrape from.\n",
    "    page_response = requests.get(page_link, timeout=5)\n",
    "    # here, we fetch the content from the url, using the requests library\n",
    "    page_content = BeautifulSoup(page_response.content, \"html.parser\")\n",
    "    #we use the html parser to parse the url content and store it in a variable.\n",
    "    textContent = []\n",
    "    for i in range(range1,range2):  # subset to only book of Deuteronomy - there's probably a better way to do this\n",
    "        paragraphs = page_content.find_all(\"p\")[i].text\n",
    "        textContent.append(paragraphs)\n",
    "    textContent = [clean(verse) for verse in textContent]\n",
    "    textContent = [verse for verse in textContent if len(verse) > 0]\n",
    "    textContent = \"\".join(textContent)\n",
    "    textContent = textContent.replace('.', '.\\n')\n",
    "    return textContent"
   ]
  },
  {
   "cell_type": "code",
   "execution_count": null,
   "metadata": {},
   "outputs": [],
   "source": [
    "First_Ten_Thousand = get_scripture(1,14252)   # Before Isaiah\n",
    "After_Isaiah = get_scripture(15301,24541)\n",
    "#All_but_Isaiah = Before_Isaiah + After_Isaiah\n",
    "\n",
    "with open(\"First_Ten_Thousand.txt\", \"w\") as output:\n",
    "    output.write(str(First_Ten_Thousand))\n",
    "    \n",
    "with open(\"After_Isaiah.txt\", \"w\") as output:\n",
    "    output.write(str(After_Isaiah))    "
   ]
  },
  {
   "cell_type": "code",
   "execution_count": 29,
   "metadata": {},
   "outputs": [],
   "source": [
    "with open(\"Bible_Minus_Isaiah.txt\", \"w\") as output:\n",
    "    output.write(str(Bible_Minus_Isaiah))"
   ]
  },
  {
   "cell_type": "code",
   "execution_count": 31,
   "metadata": {},
   "outputs": [],
   "source": [
    "Ten_Thousand_Verses = get_scripture(10000,24541)  "
   ]
  }
 ],
 "metadata": {
  "kernelspec": {
   "display_name": "Python 3",
   "language": "python",
   "name": "python3"
  },
  "language_info": {
   "codemirror_mode": {
    "name": "ipython",
    "version": 3
   },
   "file_extension": ".py",
   "mimetype": "text/x-python",
   "name": "python",
   "nbconvert_exporter": "python",
   "pygments_lexer": "ipython3",
   "version": "3.6.5"
  }
 },
 "nbformat": 4,
 "nbformat_minor": 2
}
